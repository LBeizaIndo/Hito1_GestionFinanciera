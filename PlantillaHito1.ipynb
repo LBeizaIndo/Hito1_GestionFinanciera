{
  "nbformat": 4,
  "nbformat_minor": 0,
  "metadata": {
    "colab": {
      "provenance": []
    },
    "kernelspec": {
      "name": "python3",
      "display_name": "Python 3"
    },
    "language_info": {
      "name": "python"
    }
  },
  "cells": [
    {
      "cell_type": "markdown",
      "source": [
        "# **Modelo Binomial**\n",
        "\n",
        "\n",
        "El modelo binomial para la valoración de activos, es una técnica utilizada en finanzas para valorar opciones. En este caso, nos ayudara a calcular los valores de las opciones Call y Put de NextEra Energy, Inc."
      ],
      "metadata": {
        "id": "u6wQTBzOJg_q"
      }
    },
    {
      "cell_type": "code",
      "execution_count": 5,
      "metadata": {
        "colab": {
          "base_uri": "https://localhost:8080/"
        },
        "id": "xynSyrriklo0",
        "outputId": "782228cf-2453-4f22-c0b2-90a6fbdfbcd8"
      },
      "outputs": [
        {
          "output_type": "stream",
          "name": "stdout",
          "text": [
            "Precio de la opción de compra (call): 55.50832920695362\n",
            "Precio de la opción de venta (put): 33.47092831188815\n"
          ]
        }
      ],
      "source": [
        "import math\n",
        "\n",
        "def binomial(S, K, T, r, sigma, n, option_type=\"call\"):\n",
        "    dt = T / n\n",
        "    u = math.exp(sigma * math.sqrt(dt))\n",
        "    d = 1 / u\n",
        "    p = (math.exp(r * dt) - d) / (u - d)\n",
        "\n",
        "    # Inicialización de la matriz de precios del activo subyacente\n",
        "    precios = [[0.0 for i in range(n + 1)] for i in range(n + 1)]\n",
        "\n",
        "    # Precios del activo subyacente en los últimos nodos\n",
        "    for j in range(n + 1):\n",
        "        precios[n][j] = S * (u ** (n - j)) * (d ** j)\n",
        "\n",
        "    # Valor de la opción en los últimos nodos\n",
        "    for j in range(n + 1):\n",
        "        if option_type == \"call\":\n",
        "            precios[n][j] = max(0, precios[n][j] - K)  #Calls\n",
        "        else:\n",
        "            precios[n][j] = max(0, K - precios[n][j])  #Puts\n",
        "\n",
        "    # Valor de la opción desde los últimos nodos hacia atrás\n",
        "    for i in range(n - 1, -1, -1):\n",
        "        for j in range(i + 1):\n",
        "            precios[i][j] = math.exp(-r * dt) * (p * precios[i + 1][j] + (1 - p) * precios[i + 1][j + 1])\n",
        "\n",
        "    return precios[0][0]\n",
        "\n",
        "# Parámetros\n",
        "S0 = 84.62\n",
        "K = 65\n",
        "T = 1\n",
        "r = 0.0379\n",
        "sigma = 1.6719\n",
        "n = 1000\n",
        "\n",
        "# Cálculo de precios para opción de compra (call) y venta (put)\n",
        "precio_call = binomial(S0, K, T, r, sigma, n, option_type=\"call\")\n",
        "precio_put = binomial(S0, K, T, r, sigma, n, option_type=\"put\")\n",
        "\n",
        "print(f\"Precio de la opción de compra (call): {precio_call}\")\n",
        "print(f\"Precio de la opción de venta (put): {precio_put}\")\n"
      ]
    }
  ]
}